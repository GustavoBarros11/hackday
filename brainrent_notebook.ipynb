{
  "cells": [
    {
      "cell_type": "markdown",
      "metadata": {
        "id": "StuYPO09Dm21"
      },
      "source": [
        "# BrainRent - Notebook  "
      ]
    },
    {
      "cell_type": "markdown",
      "metadata": {
        "id": "fZTp9XIKGVLT"
      },
      "source": [
        "# 1) Questão de Negócio"
      ]
    },
    {
      "cell_type": "markdown",
      "metadata": {
        "id": "snIeAMuuGVIy"
      },
      "source": [
        "# 2) Planejamento da Solução\n",
        "## 2.1) Produto Final\n",
        "## 2.2) Ferramentas\n",
        "## 2.3) Processo:"
      ]
    },
    {
      "cell_type": "markdown",
      "metadata": {
        "id": "MhgypTw5GVGW"
      },
      "source": [
        "# 3) Coleta e Limpeza dos Dados"
      ]
    },
    {
      "cell_type": "markdown",
      "metadata": {
        "id": "uX9WuOovGVER"
      },
      "source": [
        "## 3.1) Imports de Bibliotecas"
      ]
    },
    {
      "cell_type": "code",
      "execution_count": null,
      "metadata": {
        "id": "UT2hqnhw43jd"
      },
      "outputs": [],
      "source": [
        "import pandas as pd\n",
        "import numpy as np\n",
        "import matplotlib.pyplot as plt\n",
        "import seaborn as sns"
      ]
    },
    {
      "cell_type": "markdown",
      "metadata": {
        "id": "LKHGblyRG3Yu"
      },
      "source": [
        "## 3.2) Leitura dos Arquivos"
      ]
    },
    {
      "cell_type": "code",
      "execution_count": null,
      "metadata": {
        "id": "MHbXPPhLG7j9"
      },
      "outputs": [],
      "source": [
        "# from google.colab import drive\n",
        "# drive.mount('/content/drive')"
      ]
    },
    {
      "cell_type": "code",
      "execution_count": null,
      "metadata": {
        "colab": {
          "base_uri": "https://localhost:8080/",
          "height": 612
        },
        "id": "lDGI_fqF3wpm",
        "outputId": "c48349bb-f24b-4c54-af2c-3c99bd07e3d5"
      },
      "outputs": [
        {
          "ename": "",
          "evalue": "",
          "output_type": "error",
          "traceback": [
            "\u001b[1;31mRunning cells with 'Python 3.8.10 64-bit' requires ipykernel package.\n",
            "Run the following command to install 'ipykernel' into the Python environment. \n",
            "Command: '/bin/python3 -m pip install ipykernel -U --user --force-reinstall'"
          ]
        }
      ],
      "source": [
        "data = pd.read_csv('dados/treino.csv')\n",
        "data.head()"
      ]
    },
    {
      "cell_type": "code",
      "execution_count": 23,
      "metadata": {
        "colab": {
          "base_uri": "https://localhost:8080/"
        },
        "id": "8sLMsmfBOY_B",
        "outputId": "ed1a32b6-2749-4c54-9f6d-67bc1c8e0ce9"
      },
      "outputs": [
        {
          "data": {
            "text/plain": [
              "(39446, 29)"
            ]
          },
          "execution_count": 23,
          "metadata": {},
          "output_type": "execute_result"
        }
      ],
      "source": [
        "data.shape"
      ]
    },
    {
      "cell_type": "markdown",
      "metadata": {
        "id": "JKkfKcyz34B3"
      },
      "source": [
        "## 3.3) Entendimento dos Dados"
      ]
    },
    {
      "cell_type": "code",
      "execution_count": 18,
      "metadata": {
        "colab": {
          "base_uri": "https://localhost:8080/"
        },
        "id": "GHr4Vf4gKJnI",
        "outputId": "777ab61e-1a74-4640-f96c-e674fa1716ac"
      },
      "outputs": [
        {
          "data": {
            "text/plain": [
              "ID                                                             object\n",
              "num_fotos                                                     float64\n",
              "marca                                                          object\n",
              "modelo                                                         object\n",
              "versao                                                         object\n",
              "ano_de_fabricacao                                               int64\n",
              "ano_modelo                                                    float64\n",
              "odometro                                                      float64\n",
              "cambio                                                         object\n",
              "num_portas                                                      int64\n",
              "tipo                                                           object\n",
              "blindado                                                       object\n",
              "cor                                                            object\n",
              "tipo_vendedor                                                  object\n",
              "cidade_vendedor                                                object\n",
              "estado_vendedor                                                object\n",
              "tipo_anuncio                                                   object\n",
              "entrega_delivery                                                 bool\n",
              "troca                                                            bool\n",
              "elegivel_revisao                                                 bool\n",
              "attr_veiculo_aceita_troca                                      object\n",
              "attr_veiculo_único_dono                                        object\n",
              "attr_veiculo_todas_as_revisões_feitas_pela_concessionária      object\n",
              "attr_veiculo_ipva_pago                                         object\n",
              "attr_veiculo_licenciado                                        object\n",
              "attr_veiculo_garantia_de_fábrica                               object\n",
              "attr_veiculo_todas_as_revisões_feitas_pela_agenda_do_carro     object\n",
              "attr_veiculo_alienado                                         float64\n",
              "preco                                                         float64\n",
              "dtype: object"
            ]
          },
          "execution_count": 18,
          "metadata": {},
          "output_type": "execute_result"
        }
      ],
      "source": [
        "data.dtypes"
      ]
    },
    {
      "cell_type": "code",
      "execution_count": 20,
      "metadata": {
        "colab": {
          "base_uri": "https://localhost:8080/"
        },
        "id": "xISUBhcSMMxL",
        "outputId": "864b5cff-e263-4850-d23e-7a09f5df3f9e"
      },
      "outputs": [
        {
          "name": "stdout",
          "output_type": "stream",
          "text": [
            "<class 'pandas.core.frame.DataFrame'>\n",
            "RangeIndex: 39446 entries, 0 to 39445\n",
            "Data columns (total 29 columns):\n",
            " #   Column                                                      Non-Null Count  Dtype  \n",
            "---  ------                                                      --------------  -----  \n",
            " 0   ID                                                          39446 non-null  object \n",
            " 1   num_fotos                                                   39209 non-null  float64\n",
            " 2   marca                                                       39446 non-null  object \n",
            " 3   modelo                                                      39446 non-null  object \n",
            " 4   versao                                                      39446 non-null  object \n",
            " 5   ano_de_fabricacao                                           39446 non-null  int64  \n",
            " 6   ano_modelo                                                  39446 non-null  float64\n",
            " 7   odometro                                                    39446 non-null  float64\n",
            " 8   cambio                                                      39446 non-null  object \n",
            " 9   num_portas                                                  39446 non-null  int64  \n",
            " 10  tipo                                                        39446 non-null  object \n",
            " 11  blindado                                                    39446 non-null  object \n",
            " 12  cor                                                         39446 non-null  object \n",
            " 13  tipo_vendedor                                               39446 non-null  object \n",
            " 14  cidade_vendedor                                             39446 non-null  object \n",
            " 15  estado_vendedor                                             39446 non-null  object \n",
            " 16  tipo_anuncio                                                39446 non-null  object \n",
            " 17  entrega_delivery                                            39446 non-null  bool   \n",
            " 18  troca                                                       39446 non-null  bool   \n",
            " 19  elegivel_revisao                                            39446 non-null  bool   \n",
            " 20  attr_veiculo_aceita_troca                                   29230 non-null  object \n",
            " 21  attr_veiculo_único_dono                                     13898 non-null  object \n",
            " 22  attr_veiculo_todas_as_revisões_feitas_pela_concessionária   12239 non-null  object \n",
            " 23  attr_veiculo_ipva_pago                                      26223 non-null  object \n",
            " 24  attr_veiculo_licenciado                                     21250 non-null  object \n",
            " 25  attr_veiculo_garantia_de_fábrica                            5788 non-null   object \n",
            " 26  attr_veiculo_todas_as_revisões_feitas_pela_agenda_do_carro  7903 non-null   object \n",
            " 27  attr_veiculo_alienado                                       0 non-null      float64\n",
            " 28  preco                                                       39446 non-null  float64\n",
            "dtypes: bool(3), float64(5), int64(2), object(19)\n",
            "memory usage: 7.9+ MB\n"
          ]
        }
      ],
      "source": [
        "data.info()"
      ]
    },
    {
      "cell_type": "markdown",
      "metadata": {
        "id": "-xUlLcsb6d-O"
      },
      "source": [
        "## 3.4) Limpeza dos Dados"
      ]
    },
    {
      "cell_type": "code",
      "execution_count": 22,
      "metadata": {
        "colab": {
          "base_uri": "https://localhost:8080/"
        },
        "id": "z5fVSkIOOSCJ",
        "outputId": "462d1c90-ca3e-4809-d6e9-554c54694ba1"
      },
      "outputs": [
        {
          "data": {
            "text/plain": [
              "ID                                                                0\n",
              "num_fotos                                                       237\n",
              "marca                                                             0\n",
              "modelo                                                            0\n",
              "versao                                                            0\n",
              "ano_de_fabricacao                                                 0\n",
              "ano_modelo                                                        0\n",
              "odometro                                                          0\n",
              "cambio                                                            0\n",
              "num_portas                                                        0\n",
              "tipo                                                              0\n",
              "blindado                                                          0\n",
              "cor                                                               0\n",
              "tipo_vendedor                                                     0\n",
              "cidade_vendedor                                                   0\n",
              "estado_vendedor                                                   0\n",
              "tipo_anuncio                                                      0\n",
              "entrega_delivery                                                  0\n",
              "troca                                                             0\n",
              "elegivel_revisao                                                  0\n",
              "attr_veiculo_aceita_troca                                     10216\n",
              "attr_veiculo_único_dono                                       25548\n",
              "attr_veiculo_todas_as_revisões_feitas_pela_concessionária     27207\n",
              "attr_veiculo_ipva_pago                                        13223\n",
              "attr_veiculo_licenciado                                       18196\n",
              "attr_veiculo_garantia_de_fábrica                              33658\n",
              "attr_veiculo_todas_as_revisões_feitas_pela_agenda_do_carro    31543\n",
              "attr_veiculo_alienado                                         39446\n",
              "preco                                                             0\n",
              "dtype: int64"
            ]
          },
          "execution_count": 22,
          "metadata": {},
          "output_type": "execute_result"
        }
      ],
      "source": [
        "data.isna().sum()"
      ]
    },
    {
      "cell_type": "code",
      "execution_count": 27,
      "metadata": {
        "colab": {
          "base_uri": "https://localhost:8080/",
          "height": 502
        },
        "id": "_HEw9ySaORmq",
        "outputId": "ca3e1a8b-f444-4601-daf6-4f40bbdbcfc1"
      },
      "outputs": [
        {
          "ename": "KeyError",
          "evalue": "ignored",
          "output_type": "error",
          "traceback": [
            "\u001b[0;31m---------------------------------------------------------------------------\u001b[0m",
            "\u001b[0;31mKeyError\u001b[0m                                  Traceback (most recent call last)",
            "\u001b[0;32m/usr/local/lib/python3.7/dist-packages/pandas/core/indexes/base.py\u001b[0m in \u001b[0;36mget_loc\u001b[0;34m(self, key, method, tolerance)\u001b[0m\n\u001b[1;32m   3360\u001b[0m             \u001b[0;32mtry\u001b[0m\u001b[0;34m:\u001b[0m\u001b[0;34m\u001b[0m\u001b[0;34m\u001b[0m\u001b[0m\n\u001b[0;32m-> 3361\u001b[0;31m                 \u001b[0;32mreturn\u001b[0m \u001b[0mself\u001b[0m\u001b[0;34m.\u001b[0m\u001b[0m_engine\u001b[0m\u001b[0;34m.\u001b[0m\u001b[0mget_loc\u001b[0m\u001b[0;34m(\u001b[0m\u001b[0mcasted_key\u001b[0m\u001b[0;34m)\u001b[0m\u001b[0;34m\u001b[0m\u001b[0;34m\u001b[0m\u001b[0m\n\u001b[0m\u001b[1;32m   3362\u001b[0m             \u001b[0;32mexcept\u001b[0m \u001b[0mKeyError\u001b[0m \u001b[0;32mas\u001b[0m \u001b[0merr\u001b[0m\u001b[0;34m:\u001b[0m\u001b[0;34m\u001b[0m\u001b[0;34m\u001b[0m\u001b[0m\n",
            "\u001b[0;32m/usr/local/lib/python3.7/dist-packages/pandas/_libs/index.pyx\u001b[0m in \u001b[0;36mpandas._libs.index.IndexEngine.get_loc\u001b[0;34m()\u001b[0m\n",
            "\u001b[0;32m/usr/local/lib/python3.7/dist-packages/pandas/_libs/index.pyx\u001b[0m in \u001b[0;36mpandas._libs.index.IndexEngine.get_loc\u001b[0;34m()\u001b[0m\n",
            "\u001b[0;32mpandas/_libs/hashtable_class_helper.pxi\u001b[0m in \u001b[0;36mpandas._libs.hashtable.PyObjectHashTable.get_item\u001b[0;34m()\u001b[0m\n",
            "\u001b[0;32mpandas/_libs/hashtable_class_helper.pxi\u001b[0m in \u001b[0;36mpandas._libs.hashtable.PyObjectHashTable.get_item\u001b[0;34m()\u001b[0m\n",
            "\u001b[0;31mKeyError\u001b[0m: True",
            "\nThe above exception was the direct cause of the following exception:\n",
            "\u001b[0;31mKeyError\u001b[0m                                  Traceback (most recent call last)",
            "\u001b[0;32m<ipython-input-27-35f1e5eca19e>\u001b[0m in \u001b[0;36m<module>\u001b[0;34m\u001b[0m\n\u001b[0;32m----> 1\u001b[0;31m \u001b[0mdata\u001b[0m\u001b[0;34m[\u001b[0m\u001b[0mdata\u001b[0m\u001b[0;34m[\u001b[0m\u001b[0;34m'num_fotos'\u001b[0m\u001b[0;34m]\u001b[0m\u001b[0;34m.\u001b[0m\u001b[0misna\u001b[0m\u001b[0;34m(\u001b[0m\u001b[0;34m)\u001b[0m\u001b[0;34m.\u001b[0m\u001b[0many\u001b[0m\u001b[0;34m(\u001b[0m\u001b[0;34m)\u001b[0m\u001b[0;34m]\u001b[0m\u001b[0;34m\u001b[0m\u001b[0;34m\u001b[0m\u001b[0m\n\u001b[0m",
            "\u001b[0;32m/usr/local/lib/python3.7/dist-packages/pandas/core/frame.py\u001b[0m in \u001b[0;36m__getitem__\u001b[0;34m(self, key)\u001b[0m\n\u001b[1;32m   3456\u001b[0m             \u001b[0;32mif\u001b[0m \u001b[0mself\u001b[0m\u001b[0;34m.\u001b[0m\u001b[0mcolumns\u001b[0m\u001b[0;34m.\u001b[0m\u001b[0mnlevels\u001b[0m \u001b[0;34m>\u001b[0m \u001b[0;36m1\u001b[0m\u001b[0;34m:\u001b[0m\u001b[0;34m\u001b[0m\u001b[0;34m\u001b[0m\u001b[0m\n\u001b[1;32m   3457\u001b[0m                 \u001b[0;32mreturn\u001b[0m \u001b[0mself\u001b[0m\u001b[0;34m.\u001b[0m\u001b[0m_getitem_multilevel\u001b[0m\u001b[0;34m(\u001b[0m\u001b[0mkey\u001b[0m\u001b[0;34m)\u001b[0m\u001b[0;34m\u001b[0m\u001b[0;34m\u001b[0m\u001b[0m\n\u001b[0;32m-> 3458\u001b[0;31m             \u001b[0mindexer\u001b[0m \u001b[0;34m=\u001b[0m \u001b[0mself\u001b[0m\u001b[0;34m.\u001b[0m\u001b[0mcolumns\u001b[0m\u001b[0;34m.\u001b[0m\u001b[0mget_loc\u001b[0m\u001b[0;34m(\u001b[0m\u001b[0mkey\u001b[0m\u001b[0;34m)\u001b[0m\u001b[0;34m\u001b[0m\u001b[0;34m\u001b[0m\u001b[0m\n\u001b[0m\u001b[1;32m   3459\u001b[0m             \u001b[0;32mif\u001b[0m \u001b[0mis_integer\u001b[0m\u001b[0;34m(\u001b[0m\u001b[0mindexer\u001b[0m\u001b[0;34m)\u001b[0m\u001b[0;34m:\u001b[0m\u001b[0;34m\u001b[0m\u001b[0;34m\u001b[0m\u001b[0m\n\u001b[1;32m   3460\u001b[0m                 \u001b[0mindexer\u001b[0m \u001b[0;34m=\u001b[0m \u001b[0;34m[\u001b[0m\u001b[0mindexer\u001b[0m\u001b[0;34m]\u001b[0m\u001b[0;34m\u001b[0m\u001b[0;34m\u001b[0m\u001b[0m\n",
            "\u001b[0;32m/usr/local/lib/python3.7/dist-packages/pandas/core/indexes/base.py\u001b[0m in \u001b[0;36mget_loc\u001b[0;34m(self, key, method, tolerance)\u001b[0m\n\u001b[1;32m   3361\u001b[0m                 \u001b[0;32mreturn\u001b[0m \u001b[0mself\u001b[0m\u001b[0;34m.\u001b[0m\u001b[0m_engine\u001b[0m\u001b[0;34m.\u001b[0m\u001b[0mget_loc\u001b[0m\u001b[0;34m(\u001b[0m\u001b[0mcasted_key\u001b[0m\u001b[0;34m)\u001b[0m\u001b[0;34m\u001b[0m\u001b[0;34m\u001b[0m\u001b[0m\n\u001b[1;32m   3362\u001b[0m             \u001b[0;32mexcept\u001b[0m \u001b[0mKeyError\u001b[0m \u001b[0;32mas\u001b[0m \u001b[0merr\u001b[0m\u001b[0;34m:\u001b[0m\u001b[0;34m\u001b[0m\u001b[0;34m\u001b[0m\u001b[0m\n\u001b[0;32m-> 3363\u001b[0;31m                 \u001b[0;32mraise\u001b[0m \u001b[0mKeyError\u001b[0m\u001b[0;34m(\u001b[0m\u001b[0mkey\u001b[0m\u001b[0;34m)\u001b[0m \u001b[0;32mfrom\u001b[0m \u001b[0merr\u001b[0m\u001b[0;34m\u001b[0m\u001b[0;34m\u001b[0m\u001b[0m\n\u001b[0m\u001b[1;32m   3364\u001b[0m \u001b[0;34m\u001b[0m\u001b[0m\n\u001b[1;32m   3365\u001b[0m         \u001b[0;32mif\u001b[0m \u001b[0mis_scalar\u001b[0m\u001b[0;34m(\u001b[0m\u001b[0mkey\u001b[0m\u001b[0;34m)\u001b[0m \u001b[0;32mand\u001b[0m \u001b[0misna\u001b[0m\u001b[0;34m(\u001b[0m\u001b[0mkey\u001b[0m\u001b[0;34m)\u001b[0m \u001b[0;32mand\u001b[0m \u001b[0;32mnot\u001b[0m \u001b[0mself\u001b[0m\u001b[0;34m.\u001b[0m\u001b[0mhasnans\u001b[0m\u001b[0;34m:\u001b[0m\u001b[0;34m\u001b[0m\u001b[0;34m\u001b[0m\u001b[0m\n",
            "\u001b[0;31mKeyError\u001b[0m: True"
          ]
        }
      ],
      "source": [
        "data[data['num_fotos'].isna().any()].index"
      ]
    },
    {
      "cell_type": "markdown",
      "metadata": {
        "id": "iJbWJ94SHJDj"
      },
      "source": [
        "# 4) Análise Exploratória dos Dados"
      ]
    },
    {
      "cell_type": "markdown",
      "metadata": {
        "id": "TR_aPOQVImsD"
      },
      "source": [
        "## 4.0) Helper Functions"
      ]
    },
    {
      "cell_type": "markdown",
      "metadata": {
        "id": "boRz5AQqHTWZ"
      },
      "source": [
        "## 4.1) Análise Univariada"
      ]
    },
    {
      "cell_type": "markdown",
      "metadata": {
        "id": "_BsGUJYbHXb2"
      },
      "source": [
        "## 4.2) Análise Multi-Variada"
      ]
    },
    {
      "cell_type": "markdown",
      "metadata": {
        "id": "tqoARq83HbPo"
      },
      "source": [
        "## 4.3) Levantamento de Hipóteses"
      ]
    },
    {
      "cell_type": "markdown",
      "metadata": {
        "id": "urVy-RCOHbEg"
      },
      "source": [
        "## 4.4) Validação das Hipóteses"
      ]
    },
    {
      "cell_type": "markdown",
      "metadata": {
        "id": "DzH6YEhNHq_J"
      },
      "source": [
        "# 5) Transformação de Features"
      ]
    },
    {
      "cell_type": "markdown",
      "metadata": {
        "id": "9McJDgx8Hukq"
      },
      "source": [
        "## 5.1) Seleção de Variáveis"
      ]
    },
    {
      "cell_type": "markdown",
      "metadata": {
        "id": "hViIzLSqHxd_"
      },
      "source": [
        "## 5.2) Encoding"
      ]
    },
    {
      "cell_type": "markdown",
      "metadata": {
        "id": "ehWzJQYlIv3M"
      },
      "source": [
        "# 6) Modelagem"
      ]
    },
    {
      "cell_type": "markdown",
      "metadata": {
        "id": "o04LBkL9I3hK"
      },
      "source": [
        "## 6.1) Model Training"
      ]
    },
    {
      "cell_type": "markdown",
      "metadata": {
        "id": "HFFU5XLpI56k"
      },
      "source": [
        "## 6.2) Hyper Parameter Fine Tuning"
      ]
    },
    {
      "cell_type": "markdown",
      "metadata": {
        "id": "1azzM8e2JBvd"
      },
      "source": [
        "# 7) Deploy to Production"
      ]
    },
    {
      "cell_type": "code",
      "execution_count": null,
      "metadata": {
        "id": "3yXxz2syJDUC"
      },
      "outputs": [],
      "source": []
    }
  ],
  "metadata": {
    "colab": {
      "name": "brainrent_notebook.ipynb",
      "provenance": []
    },
    "kernelspec": {
      "display_name": "Python 3.10.4 ('house_rocket')",
      "language": "python",
      "name": "python3"
    },
    "language_info": {
      "name": "python",
      "version": "3.10.4"
    },
    "vscode": {
      "interpreter": {
        "hash": "86024e61ec015578848d10646609463713ce75a2c4936f568d570df911c51c81"
      }
    }
  },
  "nbformat": 4,
  "nbformat_minor": 0
}
